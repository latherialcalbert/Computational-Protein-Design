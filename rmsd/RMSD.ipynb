{
 "cells": [
  {
   "cell_type": "code",
   "execution_count": 6,
   "id": "eac0588c",
   "metadata": {},
   "outputs": [],
   "source": [
    "# Written in 2022 by Clay Richards.\n",
    "# Modified in 2022 by Jazmine Torres.\n",
    "# More Functions to Test and Use in 2023 by Latherial Calbert\n",
    "import numpy as np\n",
    "import os\n",
    "from matplotlib import pyplot as plt\n",
    "from ctypes import c_char_p\n",
    "import numpy as np\n",
    "import pandas as pd\n",
    "from itertools import combinations\n",
    "# '''This function retrieves xyz coordinats of all atoms in a PDB file.'''\n",
    "def get_xyz(pdb_file, backbone=False):\n",
    "    pdb = open(pdb_file)\n",
    "    nlines = len(pdb.readlines())\n",
    "    x = np.zeros(nlines)\n",
    "    y = np.zeros(nlines)\n",
    "    z = np.zeros(nlines)\n",
    "    j = 0\n",
    "    with open(pdb_file) as pdb:\n",
    "        lines = pdb.readlines()\n",
    "        # Iterate through all ATOM lines in PDB file to extract x, y, and z coordinates.\n",
    "        for i in range(nlines):\n",
    "            # If second input is false, retrieve coordinates for ALL atoms.\n",
    "            if backbone == False:\n",
    "                if lines[i][0:4]=='ATOM':\n",
    "                    x[j] = float(lines[i][31:38])\n",
    "                    y[j] = float(lines[i][39:46])\n",
    "                    z[j] = float(lines[i][47:54])\n",
    "                    j+=1\n",
    "            # If second input is true, retrieve coordinates for the backbone ONLY.        \n",
    "            else:\n",
    "                if lines[i][0:4]=='ATOM' and lines[i][13:15]=='N ' or lines[i][13:15]=='CA' or lines[i][13:15]=='C ':\n",
    "                    x[j] = float(lines[i][31:38])\n",
    "                    y[j] = float(lines[i][39:46])\n",
    "                    z[j] = float(lines[i][47:54])\n",
    "                    j+=1\n",
    "    x = np.trim_zeros(x,'b')\n",
    "    y = np.trim_zeros(y,'b')\n",
    "    z = np.trim_zeros(z,'b')\n",
    "    return np.array([x,y,z]).T\n",
    "# '''This function superimposes one peptide conformation onto another by minimizing RMSD'''\n",
    "def align_kabsch(r1,r2): # r1: the coordinates of peptide 1. r2: the coordinates of peptide 2.\n",
    "    centroid1 = np.array([np.mean(r1[:,0]),np.mean(r1[:,1]),np.mean(r1[:,2])])\n",
    "    centroid2 = np.array([np.mean(r2[:,0]),np.mean(r2[:,1]),np.mean(r2[:,2])])\n",
    "    r1 -= centroid1\n",
    "    r2 -= centroid2\n",
    "    covariance = np.matmul(np.transpose(r1),r2)\n",
    "    U,S,Vt = np.linalg.svd(covariance)\n",
    "    R = np.dot(U,Vt)\n",
    "    r1 = np.dot(r1,R)\n",
    "    return r1,r2\n",
    "# '''This function calculates the RMSD of two peptide conformations'''\n",
    "def rmsd(xyz1,xyz2,align=False):\n",
    "    if align==True:\n",
    "        xyz1,xyz2 = align_kabsch(xyz1,xyz2)\n",
    "    natoms1 = np.shape(xyz1)[0]\n",
    "    natoms2 = np.shape(xyz2)[0]\n",
    "    if natoms1 != natoms2:\n",
    "        raise Exception(\"different number of atoms\")\n",
    "    else:\n",
    "        rmsd = np.sqrt(np.sum((xyz2-xyz1)**2)/natoms1)\n",
    "    return rmsd\n",
    "# \n",
    "# ##########################################################################################################\n",
    "# # WWritten 2022 by Jazmine Torres.\n",
    "# \n",
    "# n_files = 1001\n",
    "# files = []\n",
    "# RMSDs_unaligned = []\n",
    "# RMSDs_aligned = []\n",
    "# \n",
    "# for i in range(n_files):\n",
    "#     files.append('frame'+str(i)+'.txt')\n",
    "# file_combos = [list(combo) for combo in combinations(files,2)]\n",
    "# # print(files)\n",
    "# # print(len(file_combos))\n",
    "# # print(file_combos)\n",
    "# \n",
    "# for i in range(n_files):\n",
    "#     xyz1 = get_xyz(file_combos[i][0],True)\n",
    "#     xyz2 = get_xyz(file_combos[i][1],True)\n",
    "#     xyz1_new,xyz2_new = align_kabsch(xyz1,xyz2)\n",
    "#     rmsd_unaligned = rmsd(xyz1,xyz2,False)\n",
    "#     rmsd_aligned = rmsd(xyz1_new,xyz2_new,True)\n",
    "#     RMSDs_unaligned.append(rmsd_unaligned)\n",
    "#     RMSDs_aligned.append(rmsd_aligned)\n",
    "# # print(RMSDs_unaligned)\n",
    "# print(RMSDs_aligned)"
   ]
  },
  {
   "cell_type": "code",
   "execution_count": 7,
   "id": "bd979602",
   "metadata": {},
   "outputs": [
    {
     "name": "stdout",
     "output_type": "stream",
     "text": [
      "RMSD (unaligned): 0.0\n",
      "RMSD (aligned): 5.18683331778464e-15\n"
     ]
    }
   ],
   "source": [
    "file1 = 'first_v3i40.pdb'\n",
    "file2 = 'back_bone3i40.pdb'\n",
    "\n",
    "# Get the xyz coordinates for the two PDB files\n",
    "xyz1 = get_xyz(file1, True)\n",
    "xyz2 = get_xyz(file2, True)\n",
    "\n",
    "# Align the coordinates using align_kabsch function\n",
    "xyz1_aligned, xyz2_aligned = align_kabsch(xyz1, xyz2)\n",
    "\n",
    "# Calculate RMSD for the unaligned coordinates\n",
    "rmsd_unaligned = rmsd(xyz1, xyz2, False)\n",
    "\n",
    "# Calculate RMSD for the aligned coordinates\n",
    "rmsd_aligned = rmsd(xyz1_aligned, xyz2_aligned, True)\n",
    "\n",
    "# Print the RMSD values\n",
    "print(\"RMSD (unaligned):\", rmsd_unaligned)\n",
    "print(\"RMSD (aligned):\", rmsd_aligned)\n"
   ]
  },
  {
   "cell_type": "code",
   "execution_count": 8,
   "id": "09a02148",
   "metadata": {},
   "outputs": [
    {
     "name": "stdout",
     "output_type": "stream",
     "text": [
      "RMSD (unaligned): 3.102386788253402\n",
      "RMSD (aligned): 0.0005023869956951755\n"
     ]
    }
   ],
   "source": [
    "file1 = 'second_v3i40.pdb'\n",
    "file2 = 'back_bone3i40.pdb'\n",
    "\n",
    "# Get the xyz coordinates for the two PDB files\n",
    "xyz1 = get_xyz(file1, True)\n",
    "xyz2 = get_xyz(file2, True)\n",
    "\n",
    "# Align the coordinates using align_kabsch function\n",
    "xyz1_aligned, xyz2_aligned = align_kabsch(xyz1, xyz2)\n",
    "\n",
    "# Calculate RMSD for the unaligned coordinates\n",
    "rmsd_unaligned = rmsd(xyz1, xyz2, False)\n",
    "\n",
    "# Calculate RMSD for the aligned coordinates\n",
    "rmsd_aligned = rmsd(xyz1_aligned, xyz2_aligned, True)\n",
    "\n",
    "# Print the RMSD values\n",
    "print(\"RMSD (unaligned):\", rmsd_unaligned)\n",
    "print(\"RMSD (aligned):\", rmsd_aligned)\n"
   ]
  },
  {
   "cell_type": "code",
   "execution_count": 1,
   "id": "f59243fb",
   "metadata": {},
   "outputs": [
    {
     "name": "stdout",
     "output_type": "stream",
     "text": [
      "insulin_ep3__1_dldesign_0_cycle0_1.pdb\n",
      "Untitled.ipynb\n",
      "insulin_ep3__1.pdb\n",
      "back_bone3i40.pdb\n",
      ".ipynb_checkpoints\n",
      "second_v3i40.pdb\n",
      "insulin_ep3__1_dldesign_0_cycle0.pdb\n",
      "first_v3i40.pdb\n"
     ]
    }
   ],
   "source": [
    "import os\n",
    "\n",
    "# Get the base directory where the notebook is located\n",
    "base_dir = os.getcwd()\n",
    "\n",
    "# List all files in the base directory\n",
    "files = os.listdir(base_dir)\n",
    "\n",
    "# Print the files\n",
    "for file in files:\n",
    "    print(file)\n"
   ]
  },
  {
   "cell_type": "code",
   "execution_count": null,
   "id": "9466b9e6",
   "metadata": {},
   "outputs": [],
   "source": []
  }
 ],
 "metadata": {
  "kernelspec": {
   "display_name": "Python 3 (ipykernel)",
   "language": "python",
   "name": "python3"
  },
  "language_info": {
   "codemirror_mode": {
    "name": "ipython",
    "version": 3
   },
   "file_extension": ".py",
   "mimetype": "text/x-python",
   "name": "python",
   "nbconvert_exporter": "python",
   "pygments_lexer": "ipython3",
   "version": "3.9.12"
  }
 },
 "nbformat": 4,
 "nbformat_minor": 5
}
